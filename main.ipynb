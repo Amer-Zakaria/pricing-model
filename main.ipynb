{
 "cells": [
  {
   "cell_type": "code",
   "execution_count": 13,
   "id": "3e8f481a",
   "metadata": {},
   "outputs": [
    {
     "name": "stderr",
     "output_type": "stream",
     "text": [
      "2025-04-28 09:28:27.018 Thread 'MainThread': missing ScriptRunContext! This warning can be ignored when running in bare mode.\n"
     ]
    }
   ],
   "source": [
    "import json\n",
    "import numpy as np\n",
    "import streamlit as st\n",
    "import random\n",
    "\n",
    "st.set_page_config(page_title=\"Mobile Pricing Decision Boundary\", layout=\"wide\")"
   ]
  },
  {
   "cell_type": "markdown",
   "id": "4aae86b3",
   "metadata": {},
   "source": [
    "## Prepairing a Sample\n"
   ]
  },
  {
   "cell_type": "code",
   "execution_count": 14,
   "id": "2d390868",
   "metadata": {},
   "outputs": [],
   "source": [
    "with open(\"sample.json\", \"r\") as file:\n",
    "    sample = json.load(file)\n",
    "sample_original = sample.copy()\n",
    "random.seed(42)\n",
    "random.shuffle(sample)\n",
    "\n",
    "# Create feature and target arrays\n",
    "X = np.array([[item[\"score\"], item[\"price\"]] for item in sample])\n",
    "avg_spd = sum(item[\"score_per_dollar\"] for item in sample) / len(sample)\n",
    "y = [1 if item[\"score_per_dollar\"] > avg_spd else 0 for item in sample]"
   ]
  },
  {
   "cell_type": "markdown",
   "id": "369a8d24",
   "metadata": {},
   "source": [
    "## Training the Classifier\n"
   ]
  },
  {
   "cell_type": "code",
   "execution_count": 15,
   "id": "e0a6d9a9",
   "metadata": {},
   "outputs": [],
   "source": [
    "from sklearn.preprocessing import StandardScaler\n",
    "from sklearn.naive_bayes import GaussianNB\n",
    "from sklearn.pipeline import Pipeline\n",
    "from sklearn.model_selection import GridSearchCV\n",
    "import pandas as pd\n",
    "\n",
    "pipe = Pipeline(\n",
    "    [\n",
    "        (\"scale\", StandardScaler()),\n",
    "        (\"model\", GaussianNB(var_smoothing=1e-9)),\n",
    "    ]\n",
    ")\n",
    "mod = GridSearchCV(\n",
    "    estimator=pipe, \n",
    "    param_grid={},\n",
    "    cv=3,\n",
    ")\n",
    "mod.fit(X, y)\n",
    "pd.DataFrame(mod.cv_results_).to_csv(\n",
    "    \"cv_results.csv\", index=False\n",
    ") "
   ]
  },
  {
   "cell_type": "markdown",
   "id": "c47c3371",
   "metadata": {},
   "source": [
    "## Visualizing Decision Boundaries with Confidence Intesity\n"
   ]
  },
  {
   "cell_type": "code",
   "execution_count": 16,
   "id": "0f5baed3",
   "metadata": {},
   "outputs": [
    {
     "name": "stderr",
     "output_type": "stream",
     "text": [
      "2025-04-28 09:28:27.125 Thread 'MainThread': missing ScriptRunContext! This warning can be ignored when running in bare mode.\n",
      "2025-04-28 09:28:27.126 Thread 'MainThread': missing ScriptRunContext! This warning can be ignored when running in bare mode.\n",
      "2025-04-28 09:28:27.129 Thread 'MainThread': missing ScriptRunContext! This warning can be ignored when running in bare mode.\n",
      "2025-04-28 09:28:27.131 Thread 'MainThread': missing ScriptRunContext! This warning can be ignored when running in bare mode.\n"
     ]
    },
    {
     "data": {
      "text/plain": [
       "DeltaGenerator()"
      ]
     },
     "execution_count": 16,
     "metadata": {},
     "output_type": "execute_result"
    }
   ],
   "source": [
    "import plotly.graph_objects as go\n",
    "import streamlit as st\n",
    "from IPython.display import HTML\n",
    "\n",
    "# 1. Define the mesh grid\n",
    "x_min, x_max = X[:, 0].min() - 50, X[:, 0].max() + 50\n",
    "y_min, y_max = X[:, 1].min() - 25, X[:, 1].max() + 25\n",
    "xx, yy = np.meshgrid(np.arange(x_min, x_max, 10), np.arange(y_min, y_max, 5))\n",
    "\n",
    "# 2. Predict probabilities over the grid\n",
    "probs = mod.predict_proba(np.c_[xx.ravel(), yy.ravel()])[:, 1]\n",
    "probs = probs.reshape(xx.shape)\n",
    "\n",
    "# 3. Create heatmap (probability background)\n",
    "red   = \"#E74C3C\"  # a softer tomato-red\n",
    "green = \"#2ECC71\"  # a fresh mint-green\n",
    "heatmap = go.Contour(\n",
    "    x=np.arange(x_min, x_max, 10),\n",
    "    y=np.arange(y_min, y_max, 5),\n",
    "    z=probs,\n",
    "    #  [\"#FF0000\", \"#00AA00\"]\n",
    "    colorscale=[(0, red), (1, green)],\n",
    "    opacity=0.8,\n",
    "    colorbar=dict(\n",
    "        title=\"Underpriced Probability\",\n",
    "        x=1.1,\n",
    "    ),\n",
    ")\n",
    "\n",
    "# 4. Add scatter plot (actual data points)\n",
    "# extract a parallel list of names\n",
    "smartphoneNames = [s[\"name\"] for s in sample_original]\n",
    "scatter = go.Scatter(\n",
    "    x=X[:, 0],\n",
    "    y=X[:, 1],\n",
    "    mode=\"markers\",\n",
    "    marker=dict(\n",
    "        size=8,\n",
    "        color=y,\n",
    "        colorscale= [red, green],\n",
    "        line=dict(width=1, color=\"black\"),\n",
    "    ),\n",
    "    name=\"Smartphones\",\n",
    "    text=[f\"Label: {label}\" for label in y],\n",
    "    customdata=smartphoneNames,\n",
    "    hovertemplate=(\n",
    "        \"Name: %{customdata}<br>\"\n",
    "        \"Performance: %{x}<br>\"\n",
    "        \"Price: $%{y}<extra></extra>\"\n",
    "    ),\n",
    ")\n",
    "\n",
    "# 5. Combine everything into one figure\n",
    "fig = go.Figure(data=[heatmap, scatter])\n",
    "fig.update_layout(\n",
    "    title=\"Price Intensity Based on Mobile Performance\",\n",
    "    xaxis_title=\"Performance Score\",\n",
    "    yaxis_title=\"Starting Price in USD\",\n",
    "    width=800,\n",
    "    height=600,\n",
    ")\n",
    "\n",
    "# 6. Show in Streamlit\n",
    "st.plotly_chart(fig, use_container_width=True)\n",
    "# html = fig.to_html(include_plotlyjs=\"cdn\")\n",
    "# HTML(html)"
   ]
  }
 ],
 "metadata": {
  "kernelspec": {
   "display_name": "Python 3",
   "language": "python",
   "name": "python3"
  },
  "language_info": {
   "codemirror_mode": {
    "name": "ipython",
    "version": 3
   },
   "file_extension": ".py",
   "mimetype": "text/x-python",
   "name": "python",
   "nbconvert_exporter": "python",
   "pygments_lexer": "ipython3",
   "version": "3.12.3"
  }
 },
 "nbformat": 4,
 "nbformat_minor": 5
}
